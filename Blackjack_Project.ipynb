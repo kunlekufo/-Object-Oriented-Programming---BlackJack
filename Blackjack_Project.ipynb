{
 "cells": [
  {
   "cell_type": "markdown",
   "metadata": {},
   "source": [
    "## Python Blackjack\n",
    "For this project you will make a Blackjack game using Python. Click <a href=\"\">here</a> to familiarize yourself with the the rules of the game. You won't be implementing every rule \"down to the letter\" with the game, but we will doing a simpler version of the game. This assignment will be given to further test your knowledge on object-oriented programming concepts.\n",
    "### Rules:\n",
    "`1. ` The game will have two players: the Dealer and the Player. The game will start off with a deck of 52 cards. The 52 cards will consist of 4 different suits: Clubs, Diamonds, Hearts and Spades. For each suit, there will be cards numbered 1 through 13. <br>\n",
    "\n",
    "**Note: No wildcards will be used in the program**\n",
    "\n",
    "`2. ` When the game begins, the dealer will shuffle the deck of cards, making them randomized. After the dealer shuffles, it will deal the player 2 cards and will deal itself 2 cards from. The Player should be able to see both of their own cards, but should only be able to see one of the Dealer's cards.\n",
    " \n",
    "`3. ` The objective of the game is for the Player to count their cards after they're dealt. If they're not satisfied with the number, they have the ability to 'Hit'. A hit allows the dealer to deal the Player one additional card. The Player can hit as many times as they'd like as long as they don't 'Bust'. A bust is when the Player is dealt cards that total more than 21.\n",
    "\n",
    "`4. ` If the dealer deals the Player cards equal to 21 on the **first** deal, the Player wins. This is referred to as Blackjack. Blackjack is **NOT** the same as getting cards that equal up to 21 after the first deal. Blackjack can only be attained on the first deal.\n",
    "\n",
    "`5. ` The Player will never see the Dealer's hand until the Player chooses to 'stand'. A Stand is when the player tells the dealer to not deal it anymore cards. Once the player chooses to Stand, the Player and the Dealer will compare their hands. Whoever has the higher number wins. Keep in mind that the Dealer can also bust. \n",
    "\n",
    "***This will be an exercise of how well you understand OOP(Object Oriented Programming). In this project, you will be using \"Pair-Programming\" to complete the assignment.*** \n",
    "\n",
    "***Pair-programming is the use of two developers(sometimes 3 ) to solve a particular problem. Usually, one developer will write the code and the other(s) will give suggestions on what should be in the code.***\n",
    "\n",
    "***However, our assignment calls for a bit more custom \"Pairs\". So, each of you will need to write your code using the code of the main person. For example, if there are two of you in a \"Pair\", you will start by one giving suggestions on what to write, the other will write the code. After the code has been written, the \"suggestion giver\" will then write the same code in their own file line by line. This is to foster the thought process of software development, but also the muscle memory of writing what you're thinking..***"
   ]
  },
  {
   "cell_type": "code",
   "execution_count": 3,
   "metadata": {},
   "outputs": [],
   "source": [
    "from random import shuffle\n",
    "from IPython.display import clear_output\n",
    "\n",
    "class Deck:\n",
    "    def __init__(self):\n",
    "        self.suits = ['Clubs', 'Diamonds', 'Hearts', 'Spades']\n",
    "        self.values = list(range(1, 14))\n",
    "        self.cards = [(suit, value) for suit in self.suits for value in self.values]\n",
    "    \n",
    "    def shuffle_deck(self):\n",
    "        shuffle(self.cards)\n",
    "    \n",
    "    def deal_card(self):\n",
    "        return self.cards.pop()\n",
    "\n",
    "        \n"
   ]
  },
  {
   "cell_type": "code",
   "execution_count": 4,
   "metadata": {
    "scrolled": false
   },
   "outputs": [],
   "source": [
    "class Player:\n",
    "    def __init__(self):\n",
    "        self.hand = []\n",
    "        self.score = 0\n",
    "    \n",
    "    def calculate_score(self):\n",
    "        self.score = sum(card[1] for card in self.hand)\n",
    "        return self.score\n",
    "    \n",
    "    def display_bust_message(self):\n",
    "        print(\"Bust! Your total is over 21. You lose.\")\n",
    "    \n",
    "    def display_hand(self):\n",
    "        print(\"Your hand:\")\n",
    "        for card in self.hand:\n",
    "            print(f\"{card[1]} of {card[0]}\")\n",
    "    \n",
    "    def display_blackjack(self):\n",
    "        print(\"Blackjack! You win.\")\n",
    "    \n",
    "    def display_win(self):\n",
    "        print(\"Congratulations! You win.\")\n"
   ]
  },
  {
   "cell_type": "code",
   "execution_count": 5,
   "metadata": {},
   "outputs": [],
   "source": [
    "class Player:\n",
    "    def __init__(self):\n",
    "        self.hand = []\n",
    "        self.score = 0\n",
    "    \n",
    "    def calculate_score(self):\n",
    "        self.score = sum(card[1] for card in self.hand)\n",
    "        return self.score\n",
    "    \n",
    "    def display_bust_message(self):\n",
    "        print(\"Bust! Your total is over 21. You lose.\")\n",
    "    \n",
    "    def display_hand(self):\n",
    "        print(\"Your hand:\")\n",
    "        for card in self.hand:\n",
    "            print(f\"{card[1]} of {card[0]}\")\n",
    "    \n",
    "    def display_blackjack(self):\n",
    "        print(\"Blackjack! You win.\")\n",
    "    \n",
    "    def display_win(self):\n",
    "        print(\"Congratulations! You win.\")\n"
   ]
  },
  {
   "cell_type": "code",
   "execution_count": null,
   "metadata": {},
   "outputs": [],
   "source": []
  }
 ],
 "metadata": {
  "kernelspec": {
   "display_name": "Python 3 (ipykernel)",
   "language": "python",
   "name": "python3"
  },
  "language_info": {
   "codemirror_mode": {
    "name": "ipython",
    "version": 3
   },
   "file_extension": ".py",
   "mimetype": "text/x-python",
   "name": "python",
   "nbconvert_exporter": "python",
   "pygments_lexer": "ipython3",
   "version": "3.11.5"
  }
 },
 "nbformat": 4,
 "nbformat_minor": 2
}
